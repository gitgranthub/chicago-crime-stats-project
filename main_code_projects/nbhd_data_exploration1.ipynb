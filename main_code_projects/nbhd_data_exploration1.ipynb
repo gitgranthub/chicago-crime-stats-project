{
 "cells": [
  {
   "cell_type": "code",
   "execution_count": 1,
   "metadata": {},
   "outputs": [],
   "source": [
    "import pandas as pd\n",
    "pd.options.display.max_columns = None"
   ]
  },
  {
   "cell_type": "code",
   "execution_count": 2,
   "metadata": {},
   "outputs": [
    {
     "name": "stderr",
     "output_type": "stream",
     "text": [
      "C:\\Users\\david\\anaconda3\\lib\\site-packages\\IPython\\core\\interactiveshell.py:3063: DtypeWarning: Columns (21) have mixed types.Specify dtype option on import or set low_memory=False.\n",
      "  interactivity=interactivity, compiler=compiler, result=result)\n"
     ]
    }
   ],
   "source": [
    "# reported_crime: each case represents a victim who reported a crime in their neighborhood\n",
    "\n",
    "raw_crime_data = pd.read_csv('data/Reported_Crime.csv')\n",
    "\"\"\"\n",
    "Index(['ID', 'Case Number', 'Date', 'Block', 'IUCR', 'Primary Type',\n",
    "       'Description', 'Location Description', 'Arrest', 'Domestic', 'Beat',\n",
    "       'District', 'Ward', 'Community Area', 'FBI Code', 'X Coordinate',\n",
    "       'Y Coordinate', 'Year', 'Updated On', 'Latitude', 'Longitude',\n",
    "       'Location'],\n",
    "      dtype='object')\n",
    "      \n",
    "7,153,912 cases\n",
    "#Data collected from 2001 to April 2020\n",
    "\"\"\"\n",
    "\n",
    "#Create new dataframe with relevant columns\n",
    "reported_crime = raw_crime_data[['ID', 'Year', 'Community Area', 'Primary Type']].reset_index()\n",
    "reported_crime.dropna(inplace=True)\n",
    "#6,540,874 rows × 4 columns (compare with incomplete data, which was 998,719 rows × 7 columns)"
   ]
  },
  {
   "cell_type": "code",
   "execution_count": 3,
   "metadata": {},
   "outputs": [
    {
     "data": {
      "text/plain": [
       "THEFT                               578115\n",
       "BATTERY                             514278\n",
       "CRIMINAL DAMAGE                     343826\n",
       "NARCOTICS                           338471\n",
       "BURGLARY                            180618\n",
       "OTHER OFFENSE                       176269\n",
       "ASSAULT                             169494\n",
       "MOTOR VEHICLE THEFT                 135649\n",
       "ROBBERY                             108385\n",
       "DECEPTIVE PRACTICE                   95288\n",
       "CRIMINAL TRESPASS                    86045\n",
       "PROSTITUTION                         33234\n",
       "WEAPONS VIOLATION                    27091\n",
       "PUBLIC PEACE VIOLATION               21894\n",
       "OFFENSE INVOLVING CHILDREN           18731\n",
       "CRIM SEXUAL ASSAULT                  10311\n",
       "SEX OFFENSE                           9868\n",
       "GAMBLING                              7708\n",
       "LIQUOR LAW VIOLATION                  6323\n",
       "INTERFERENCE WITH PUBLIC OFFICER      5048\n",
       "ARSON                                 4414\n",
       "HOMICIDE                              3228\n",
       "KIDNAPPING                            2287\n",
       "INTIMIDATION                          1649\n",
       "STALKING                              1318\n",
       "OBSCENITY                              155\n",
       "CRIMINAL SEXUAL ASSAULT                110\n",
       "OTHER NARCOTIC VIOLATION                60\n",
       "PUBLIC INDECENCY                        47\n",
       "RITUALISM                               10\n",
       "NON-CRIMINAL                             2\n",
       "HUMAN TRAFFICKING                        1\n",
       "Name: Primary Type, dtype: int64"
      ]
     },
     "execution_count": 3,
     "metadata": {},
     "output_type": "execute_result"
    }
   ],
   "source": [
    "#selecting cases from 2005 to 2011\n",
    "reported_crime = reported_crime[(reported_crime.Year >= 2005) & (reported_crime.Year <= 2011)].reset_index()\n",
    "reported_crime\n",
    "#2,879,927 rows × 5 columns\n",
    "reported_crime['Primary Type'].value_counts()"
   ]
  },
  {
   "cell_type": "code",
   "execution_count": 4,
   "metadata": {},
   "outputs": [
    {
     "data": {
      "text/plain": [
       "\"\\nThere are 77 neighborhoods\\n\\nIndex(['Community Area', 'Community Area Name', 'Birth Rate',\\n       'General Fertility Rate', 'Low Birth Weight',\\n       'Prenatal Care Beginning in First Trimester', 'Preterm Births',\\n       'Teen Birth Rate', 'Assault (Homicide)', 'Breast cancer in females',\\n       'Cancer (All Sites)', 'Colorectal Cancer', 'Diabetes-related',\\n       'Firearm-related', 'Infant Mortality Rate', 'Lung Cancer',\\n       'Prostate Cancer in Males', 'Stroke (Cerebrovascular Disease)',\\n       'Childhood Blood Lead Level Screening', 'Childhood Lead Poisoning',\\n       'Gonorrhea in Females', 'Gonorrhea in Males', 'Tuberculosis',\\n       'Below Poverty Level', 'Crowded Housing', 'Dependency',\\n       'No High School Diploma', 'Per Capita Income', 'Unemployment'],\\n      dtype='object')\\n      \\n# 77 rows x 29 columns\\n\""
      ]
     },
     "execution_count": 4,
     "metadata": {},
     "output_type": "execute_result"
    }
   ],
   "source": [
    "# neighborhood_health: each case represents a neighborhood measure\n",
    "neighborhood_health = pd.read_csv('data/Neighborhood_Health.csv')\n",
    "\"\"\"\n",
    "There are 77 neighborhoods\n",
    "\n",
    "Index(['Community Area', 'Community Area Name', 'Birth Rate',\n",
    "       'General Fertility Rate', 'Low Birth Weight',\n",
    "       'Prenatal Care Beginning in First Trimester', 'Preterm Births',\n",
    "       'Teen Birth Rate', 'Assault (Homicide)', 'Breast cancer in females',\n",
    "       'Cancer (All Sites)', 'Colorectal Cancer', 'Diabetes-related',\n",
    "       'Firearm-related', 'Infant Mortality Rate', 'Lung Cancer',\n",
    "       'Prostate Cancer in Males', 'Stroke (Cerebrovascular Disease)',\n",
    "       'Childhood Blood Lead Level Screening', 'Childhood Lead Poisoning',\n",
    "       'Gonorrhea in Females', 'Gonorrhea in Males', 'Tuberculosis',\n",
    "       'Below Poverty Level', 'Crowded Housing', 'Dependency',\n",
    "       'No High School Diploma', 'Per Capita Income', 'Unemployment'],\n",
    "      dtype='object')\n",
    "      \n",
    "# 77 rows x 29 columns\n",
    "\"\"\""
   ]
  },
  {
   "cell_type": "code",
   "execution_count": 5,
   "metadata": {},
   "outputs": [],
   "source": [
    "# raw: reported_crime (individual-level data) merged with reported_crime (neighborhood_level data)\n",
    "raw = pd.merge(neighborhood_health, reported_crime, on='Community Area').reset_index(drop=True)\n",
    "# 2,879,882 rows × 34 columns"
   ]
  },
  {
   "cell_type": "code",
   "execution_count": 6,
   "metadata": {},
   "outputs": [],
   "source": [
    "# Created 32 variables-- one variable for each Primary Type category.\n",
    "\n",
    "crime_type = raw['Primary Type'].unique()\n",
    "list(crime_type)\n",
    "for crime in crime_type:\n",
    "    raw[crime] = raw['Primary Type'].apply(lambda x: 1 if x == crime else 0)\n",
    "\n",
    "# Drop the Year variable\n",
    "# 2005    453674\n",
    "# 2006    448073\n",
    "# 2007    436874\n",
    "# 2008    426840\n",
    "# 2009    392536\n",
    "# 2010    370203\n",
    "# 2011    351682\n",
    "\n",
    "raw.drop(columns=['Year'], inplace=True)\n",
    "\n",
    "# 2,879,882 rows × 65 columns"
   ]
  },
  {
   "cell_type": "code",
   "execution_count": 7,
   "metadata": {},
   "outputs": [],
   "source": [
    "# Aggregate data by neighborhood\n",
    "\n",
    "df1 = raw.set_index('Community Area Name')\n",
    "df1 = raw.loc[:, :'Unemployment'].groupby('Community Area Name').mean().reset_index()\n",
    "ca = raw['Community Area Name'].reset_index(drop=True)\n",
    "df2 = raw.loc[:, 'ASSAULT':]\n",
    "df2 = pd.concat([ca, df2], axis=1)\n",
    "df2 = df2.groupby('Community Area Name').sum().reset_index()\n",
    "df3 = pd.merge(df1, df2)\n",
    "df3.sort_values('Community Area Name', inplace=True)\n",
    "\n",
    "# 77 rows x 60 columns"
   ]
  },
  {
   "cell_type": "code",
   "execution_count": 8,
   "metadata": {},
   "outputs": [],
   "source": [
    "#Classifying Crimes\n",
    "\n",
    "#Violent Crimes\n",
    "df3[\"Violence\"] =\\\n",
    "\\\n",
    "df3['ASSAULT'] +\\\n",
    "df3['BATTERY'] +\\\n",
    "df3['ARSON'] +\\\n",
    "df3['HOMICIDE'] +\\\n",
    "df3['INTIMIDATION'] +\\\n",
    "df3['KIDNAPPING']\n",
    "\n",
    "#Sexual Crimes\n",
    "df3[\"Sexual Crimes\"] =\\\n",
    "\\\n",
    "df3['CRIM SEXUAL ASSAULT'] +\\\n",
    "df3['SEX OFFENSE'] +\\\n",
    "df3['PROSTITUTION'] +\\\n",
    "df3['CRIMINAL SEXUAL ASSAULT'] +\\\n",
    "df3['HUMAN TRAFFICKING']\n",
    "\n",
    "#Property Crimes\n",
    "df3[\"Property Crimes\"] =\\\n",
    "\\\n",
    "df3['MOTOR VEHICLE THEFT'] +\\\n",
    "df3['THEFT'] +\\\n",
    "df3['ROBBERY'] +\\\n",
    "df3['BURGLARY'] +\\\n",
    "df3['INTIMIDATION'] +\\\n",
    "df3['KIDNAPPING']\n",
    "\n",
    "#Drugs\n",
    "df3[\"Drugs\"] =\\\n",
    "\\\n",
    "df3['NARCOTICS'] +\\\n",
    "df3['OTHER NARCOTIC VIOLATION']\n",
    "\n",
    "df3.rename(columns={'Assault (Homicide)': 'Homicide_rate_per_100k', 'HOMICIDE': 'Homicide'}, inplace=True)\n",
    "\n",
    "#Creating neighborhood crime types csv file\n",
    "#77 rows x 64 columns\n",
    "\n",
    "df3.to_csv('output_data/neighborhood_full_data.csv', index=None)"
   ]
  }
 ],
 "metadata": {
  "kernelspec": {
   "display_name": "Python 3",
   "language": "python",
   "name": "python3"
  },
  "language_info": {
   "codemirror_mode": {
    "name": "ipython",
    "version": 3
   },
   "file_extension": ".py",
   "mimetype": "text/x-python",
   "name": "python",
   "nbconvert_exporter": "python",
   "pygments_lexer": "ipython3",
   "version": "3.7.6"
  }
 },
 "nbformat": 4,
 "nbformat_minor": 4
}
